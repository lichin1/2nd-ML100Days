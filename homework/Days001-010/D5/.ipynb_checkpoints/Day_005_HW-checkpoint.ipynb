{
 "cells": [
  {
   "cell_type": "code",
   "execution_count": 1,
   "metadata": {
    "collapsed": true
   },
   "outputs": [],
   "source": [
    "# Import 需要的套件\n",
    "import os\n",
    "import numpy as np\n",
    "import pandas as pd\n",
    "\n",
    "# 設定 data_path\n",
    "dir_data = 'C:/Users/lichin/Desktop/GitHub/data/Part01'"
   ]
  },
  {
   "cell_type": "code",
   "execution_count": 2,
   "metadata": {
    "collapsed": true
   },
   "outputs": [],
   "source": [
    "f_app_train = os.path.join(dir_data, 'application_train.csv')\n",
    "app_train = pd.read_csv(f_app_train)"
   ]
  },
  {
   "cell_type": "code",
   "execution_count": 3,
   "metadata": {
    "collapsed": true
   },
   "outputs": [],
   "source": [
    "import matplotlib.pyplot as plt\n",
    "%matplotlib inline"
   ]
  },
  {
   "cell_type": "markdown",
   "metadata": {},
   "source": [
    "## 練習時間"
   ]
  },
  {
   "cell_type": "markdown",
   "metadata": {},
   "source": [
    "觀察有興趣的欄位的資料分佈，並嘗試找出有趣的訊息\n",
    "#### Eg\n",
    "- 計算任意欄位的平均數及標準差\n",
    "- 畫出任意欄位的[直方圖](https://zh.wikipedia.org/zh-tw/%E7%9B%B4%E6%96%B9%E5%9B%BE)\n",
    "\n",
    "### Hints:\n",
    "- [Descriptive Statistics For pandas Dataframe](https://chrisalbon.com/python/data_wrangling/pandas_dataframe_descriptive_stats/)\n",
    "- [pandas 中的繪圖函數](https://amaozhao.gitbooks.io/pandas-notebook/content/pandas%E4%B8%AD%E7%9A%84%E7%BB%98%E5%9B%BE%E5%87%BD%E6%95%B0.html)\n"
   ]
  },
  {
   "cell_type": "code",
   "execution_count": 4,
   "metadata": {},
   "outputs": [
    {
     "name": "stdout",
     "output_type": "stream",
     "text": [
      "(307511, 122)\n"
     ]
    }
   ],
   "source": [
    "print(app_train.shape)"
   ]
  },
  {
   "cell_type": "code",
   "execution_count": 5,
   "metadata": {},
   "outputs": [
    {
     "data": {
      "text/plain": [
       "float64    65\n",
       "int64      41\n",
       "object     16\n",
       "dtype: int64"
      ]
     },
     "execution_count": 5,
     "metadata": {},
     "output_type": "execute_result"
    }
   ],
   "source": [
    "app_train.dtypes.value_counts()"
   ]
  },
  {
   "cell_type": "code",
   "execution_count": 6,
   "metadata": {
    "collapsed": true
   },
   "outputs": [],
   "source": [
    "mean_income = app_train[\"AMT_INCOME_TOTAL\"].mean()\n",
    "median_income = app_train[\"AMT_INCOME_TOTAL\"].median()\n",
    "std_income = app_train[\"AMT_INCOME_TOTAL\"].std()"
   ]
  },
  {
   "cell_type": "code",
   "execution_count": 9,
   "metadata": {},
   "outputs": [
    {
     "data": {
      "text/plain": [
       "<matplotlib.axes._subplots.AxesSubplot at 0x13a1bfc6860>"
      ]
     },
     "execution_count": 9,
     "metadata": {},
     "output_type": "execute_result"
    },
    {
     "data": {
      "image/png": "[encoded data removed]",
      "text/plain": [
       "<matplotlib.figure.Figure at 0x13a1c01a5c0>"
      ]
     },
     "metadata": {},
     "output_type": "display_data"
    }
   ],
   "source": [
    "app_train[\"AMT_INCOME_TOTAL\"][0:100].plot(kind='bar')"
   ]
  },
  {
   "cell_type": "code",
   "execution_count": 28,
   "metadata": {},
   "outputs": [
    {
     "data": {
      "text/plain": [
       "SK_ID_CURR                               100003\n",
       "TARGET                                        0\n",
       "NAME_CONTRACT_TYPE                   Cash loans\n",
       "CODE_GENDER                                   F\n",
       "FLAG_OWN_CAR                                  N\n",
       "FLAG_OWN_REALTY                               N\n",
       "CNT_CHILDREN                                  0\n",
       "AMT_INCOME_TOTAL                         270000\n",
       "AMT_CREDIT                           1.2935e+06\n",
       "AMT_ANNUITY                             35698.5\n",
       "AMT_GOODS_PRICE                      1.1295e+06\n",
       "NAME_TYPE_SUITE                          Family\n",
       "NAME_INCOME_TYPE                  State servant\n",
       "NAME_EDUCATION_TYPE            Higher education\n",
       "NAME_FAMILY_STATUS                      Married\n",
       "NAME_HOUSING_TYPE             House / apartment\n",
       "REGION_POPULATION_RELATIVE             0.003541\n",
       "DAYS_BIRTH                               -16765\n",
       "DAYS_EMPLOYED                             -1188\n",
       "DAYS_REGISTRATION                         -1186\n",
       "DAYS_ID_PUBLISH                            -291\n",
       "OWN_CAR_AGE                                 NaN\n",
       "FLAG_MOBIL                                    1\n",
       "FLAG_EMP_PHONE                                1\n",
       "FLAG_WORK_PHONE                               0\n",
       "FLAG_CONT_MOBILE                              1\n",
       "FLAG_PHONE                                    1\n",
       "FLAG_EMAIL                                    0\n",
       "OCCUPATION_TYPE                      Core staff\n",
       "CNT_FAM_MEMBERS                               2\n",
       "                                    ...        \n",
       "DEF_30_CNT_SOCIAL_CIRCLE                      0\n",
       "OBS_60_CNT_SOCIAL_CIRCLE                      1\n",
       "DEF_60_CNT_SOCIAL_CIRCLE                      0\n",
       "DAYS_LAST_PHONE_CHANGE                     -828\n",
       "FLAG_DOCUMENT_2                               0\n",
       "FLAG_DOCUMENT_3                               1\n",
       "FLAG_DOCUMENT_4                               0\n",
       "FLAG_DOCUMENT_5                               0\n",
       "FLAG_DOCUMENT_6                               0\n",
       "FLAG_DOCUMENT_7                               0\n",
       "FLAG_DOCUMENT_8                               0\n",
       "FLAG_DOCUMENT_9                               0\n",
       "FLAG_DOCUMENT_10                              0\n",
       "FLAG_DOCUMENT_11                              0\n",
       "FLAG_DOCUMENT_12                              0\n",
       "FLAG_DOCUMENT_13                              0\n",
       "FLAG_DOCUMENT_14                              0\n",
       "FLAG_DOCUMENT_15                              0\n",
       "FLAG_DOCUMENT_16                              0\n",
       "FLAG_DOCUMENT_17                              0\n",
       "FLAG_DOCUMENT_18                              0\n",
       "FLAG_DOCUMENT_19                              0\n",
       "FLAG_DOCUMENT_20                              0\n",
       "FLAG_DOCUMENT_21                              0\n",
       "AMT_REQ_CREDIT_BUREAU_HOUR                    0\n",
       "AMT_REQ_CREDIT_BUREAU_DAY                     0\n",
       "AMT_REQ_CREDIT_BUREAU_WEEK                    0\n",
       "AMT_REQ_CREDIT_BUREAU_MON                     0\n",
       "AMT_REQ_CREDIT_BUREAU_QRT                     0\n",
       "AMT_REQ_CREDIT_BUREAU_YEAR                    0\n",
       "Name: 1, Length: 122, dtype: object"
      ]
     },
     "execution_count": 28,
     "metadata": {},
     "output_type": "execute_result"
    }
   ],
   "source": [
    "app_train.iloc[1]"
   ]
  }
 ],
 "metadata": {
  "kernelspec": {
   "display_name": "Python 3",
   "language": "python",
   "name": "python3"
  },
  "language_info": {
   "codemirror_mode": {
    "name": "ipython",
    "version": 3
   },
   "file_extension": ".py",
   "mimetype": "text/x-python",
   "name": "python",
   "nbconvert_exporter": "python",
   "pygments_lexer": "ipython3",
   "version": "3.6.3"
  }
 },
 "nbformat": 4,
 "nbformat_minor": 2
}
